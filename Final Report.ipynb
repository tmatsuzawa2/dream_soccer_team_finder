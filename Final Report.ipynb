{
 "cells": [
  {
   "cell_type": "markdown",
   "metadata": {},
   "source": [
    "### CS/ECE/ISyE 524 &mdash; Introduction to Optimization &mdash; Fall 2018 ###\n",
    "\n",
    "### Optimal Soccer Team Based on Preference\n",
    "\n",
    "#### Takashi Matsuzawa (tmatsuzawa@wisc.edu), Zijian Jiang (zjiang243@wisc.edu), Ang Li (ali98@wisc.edu), and Runze Yang (ryang65@wisc.edu)\n",
    "\n",
    "### Table of Contents\n",
    "\n",
    "1. [Introduction](#1.-Introduction)\n",
    "1. [Mathematical Model](#2.-Mathematical-model)\n",
    "1. [Solution](#3.-Solution)\n",
    "1. [Results and Discussion](#4.-Results-and-discussion)\n",
    "1. [Conclusion](#5.-Conclusion)"
   ]
  },
  {
   "cell_type": "markdown",
   "metadata": {},
   "source": [
    "## 1. Introduction ##"
   ]
  },
  {
   "cell_type": "markdown",
   "metadata": {},
   "source": [
    "This report was aimed at elaborating and analyzing our final project about selecting the optimal soccer team based on preference and expected emphasis of a team. From the standpoint of fans of soccer video games, people may always dream about building their own personalized soccer team through selecting players by themselves. Fans normally have different preference over what kind of team they intended to construct, for example they may want a team with more players who have stronger ability in attacking. The dataset in the game have soccer players’ scores in different aspects of capability. Therefore, our models can help soccer video gamers who have this type of wish to build their personalized teams more easily. Furthermore, in reality, utilizing optimization and statistical analysis on organizing a team can also be critical to strengthen the team’s quality in the specific aspect and to better distribute the budget of a club in order to make the team as cost-effective as possible.\n",
    "\n",
    "We constructed models that optimize soccer team with four areas of emphasis, which are attack, midfield, defense and the overall rating, by choosing players according to their particular ability. First, we set up a annual budget limit for the whole team, so the sum of annual salaries of all players chosen should at least not exceed this limit. Then maximizing the sum of ability scores in either attack, midfield or defense over all selected players based on the team preference of gamers. The data we used, obtained from https://fifaforums.easports.com/en/discussion/138979/fut-player-database\n",
    ", was imported from the soccer video game FIFA Ultimate Team 2016. Initially we had data for a couple of thousand players. Since it would take a considerable amounts of time for Julia to find out the optimal solution among such a huge database, we decided to reduce the size into 360. There are 13 different positions that can be classified into 3 categories: \n",
    "\n",
    "*1. Attacker which includes RW (Right Wing), LW (Left Wing), ST(Striker), CF (Center Forward)\n",
    "\n",
    "| Name       |Overall Rating|Position       | Pace      | Dribbling  |...|Long Shot|Attack Ability(before)|After replacement|\n",
    "|------------|--------------|---------------|:----------|------------|---|---------|----------------------|-----------------|\n",
    "| Manuel     |96            |GK (defender)  |88         |89          |...|16       |66.5                  |66.5             |\n",
    "|  Lionel    |99            |RW (attacker)  |83         |90          |...|85       |82                    |99               |\n",
    "| Paul       |93            |CM (midfielder)|84         |93          |...|98       |93                    |93               |"
   ]
  },
  {
   "cell_type": "markdown",
   "metadata": {},
   "source": [
    "*2. Midfielder which includes CM (Center Midfielder), CAM (Center Attack Midfielder), CDM (Center Defend Midfielder), LM (Left Midfielder), RM (Right Midfielder)\n",
    "\n",
    "\n",
    "| Name       |Overall Rating|Position       |Agility    | Dribbling  |...|Short Pass|Midfield Ability(before)|After replacement|\n",
    "|------------|--------------|---------------|:----------|------------|---|----------|------------------------|-----------------|\n",
    "| Manuel     |96            |GK (defender)  |43         |35          |...|42        |16.5                    |16.5             |\n",
    "|  Lionel    |99            |RW (attacker)  |83         |79          |...|88        |67.6                    |67.6             |\n",
    "| Paul       |93            |CM (midfielder)|81         |65          |...|93        |88                      |93               |"
   ]
  },
  {
   "cell_type": "markdown",
   "metadata": {},
   "source": [
    "*3. Defender which includes CB (Center Back), LB (Left Back), RB (Right Back) and GK (Goalkeeper)\n",
    "\n",
    "\n",
    "\n",
    "| Name       |Overall Rating|Position       |Sliding Tackle| Jumping|...|Defending|Defence Ability(before) |After replacement|\n",
    "|------------|--------------|---------------|:-------------|--------|---|---------|------------------------|-----------------|\n",
    "| Manuel     |96            |GK (defender)  |11            |78      |...|58       |88.3                    |96               |\n",
    "|  Lionel    |99            |RW (attacker)  |83            |79      |...|88       |66.3                    |66.3             |\n",
    "| Paul       |93            |CM (midfielder)|81            |65      |...|93       |88.6                    |88.6             |\n",
    "\n",
    "### Dataset:\n",
    "Each player has a set of scores for different abilities or skills, such as shooting, passing, positioning and also annual salary. There are in total of 27 types of abilities we decided to use, and we divided them into three categories. In the data csv file, abilities from 13th. to 20th. columns are considered as attack abilities, abilities from 22th. to 33th. columns are considered as midfield abilities, and abilities from 35th. to 41th. columns. In order to make our data clean and readable, we implemented a function called analyzeData() which first found out the mean of all abilities within the same category (i.e. take the average of 13th. to 20th. columns as the overall attack ability). After that we identified the type of each player and assigned their overall rating (1st row) into their corresponding ability. For instance, if a player A is a CF(attacker) which has rating of 90, then we assign 90 as his overall attack ability and this will overwrite the pre-calculated overall attack ability only.\n",
    "\n",
    "The outline of the report will be as follows: First, we present mathematical models of the project based on the gamer’s preference on the type of soccer team, which are attacking, midfield, defending and also the overall rating. Then, we present the Julia code behind each model and analysis of our data. Next, we illustrate plots as well as figures, interpret the results generated from our models, and discuss the limitations of our model. Finally, we summarize our results and findings, and state the improvements we can make for the future direction of the project."
   ]
  },
  {
   "cell_type": "markdown",
   "metadata": {},
   "source": [
    "## 2. Mathematical model ##\n",
    "\n",
    "All of the models are integer linear programs (all binary variables 0 or 1). In order to know which players should be picked, binary vectors are created. Each vector represents a certain player. If a player is picked, its value is assigned as 1. Otherwise, they are assigned as 0. The vector “k” represents this variable.  \n",
    "\n",
    "There are four types of constraints in this model. The first constraint requires that the total player salary does not exceed the maximum salary limit. The total salary can be calculated by using the sum of product between the binary variable vector and salary data column. Here is the constraint: \n",
    "\n",
    "\\begin{equation}\n",
    "\\begin{aligned}\n",
    "& & &  \\ K^T\\cdot \\le MaxSalary \\\\\n",
    "\\end{aligned}\n",
    "\\end{equation}\n",
    "\n",
    "The second type of constraint requires that the amounts of players from each position that are selected should be appropriate. For each possible position, there is a minimum and maximum limit. In order to satisfy this requirement, the number of players in each position should be greater than the lower bound and less than the higher bound. Here is an example of one of the constraints:\n",
    "\n",
    "\\begin{equation}\n",
    "\\begin{aligned}\n",
    "& & &  minLimit \\le \\sum_{i\\in LW}k_i \\le LWLimit         \\\\\n",
    "\\end{aligned}\n",
    "\\end{equation}\n",
    "\n",
    "The third type of constraint requires that the amounts of players from each category that are selected should be appropriate. Similar to the second type, for each possible position, there is a minimum and maximum limit, and the number of players in each position should be greater than the lower bound and less than the higher bound. Here is an example of one of the constraints:\n",
    "\n",
    "\\begin{equation}\n",
    "\\begin{aligned}\n",
    "& & &  minForward \\le \\sum_{i\\in attack}k_i \\le maxForward \\\\\n",
    "\\end{aligned}\n",
    "\\end{equation}\n"
   ]
  },
  {
   "cell_type": "markdown",
   "metadata": {},
   "source": [
    "The fourth constraint implies that only a given number of players can come from the same club. Having players from the same club is risky and not beneficial to the balance of the fantasy team. The reason is that if the team does poorly, both players are also likely to perform poorly. In order to represent this constraint, a vector of unique team names is derived and represented by “C”. Then, the sum over the indices of the binary decision variable elements that represent a player from that particular team must be less than or equal to the given parameter amount. Here is the team constraint:\n",
    "\n",
    "\\begin{equation}\n",
    "\\begin{aligned}\n",
    "& & &  \\sum_{i\\in club_j}k_i \\le CBLimit   &\\forall j \\in C        \\\\\n",
    "\\end{aligned}\n",
    "\\end{equation}\n",
    "\n",
    "The objective is trying to pursue the maximization of total abilities using application variable called λ. λ can be chosen between 0 and 1. The greater the value is, more strongly the corresponding category/field is favored (If you want to make a balance model, set λ to 1/3)."
   ]
  },
  {
   "cell_type": "markdown",
   "metadata": {},
   "source": [
    "Here is the entire attack model:\n",
    "\n",
    "\\begin{equation}\n",
    "\\begin{aligned}\n",
    "& \\underset{k}{\\text{maximize}}\n",
    "& & \\lambda \\cdot \\sum_{i\\in\\ attack} k_i + \\frac{1- \\lambda}{2} \\cdot\\sum_{i\\in midUdenfense}^{r}k_i           & \\forall j = 1,\\dots , n \\\\\n",
    "& \\text{subject to} & & \\sum_{i\\in GK} k_i = GKlimit \\\\\n",
    "& & &  \\ K^T\\cdot \\le MaxSalary \\\\\n",
    "& & &  minLimit \\le \\sum_{i\\in LW}k_i \\le LWLimit         \\\\\n",
    "& & &  minLimit \\le \\sum_{i\\in LW}k_i \\le RWLimit         \\\\\n",
    "& & &  minLimit \\le \\sum_{i\\in LW}k_i \\le STLimit         \\\\\n",
    "& & &  minLimit \\le \\sum_{i\\in LW}k_i \\le CFLimit         \\\\\n",
    "& & &  minLimit \\le \\sum_{i\\in LW}k_i \\le CMLimit         \\\\\n",
    "& & &  minLimit \\le \\sum_{i\\in LW}k_i \\le CAMLimit         \\\\\n",
    "& & &  minLimit \\le \\sum_{i\\in LW}k_i \\le CDMLimit         \\\\\n",
    "& & &  minLimit \\le \\sum_{i\\in LW}k_i \\le LMLimit         \\\\\n",
    "& & &  minLimit \\le \\sum_{i\\in LW}k_i \\le RMLimit         \\\\\n",
    "& & &  minLimit \\le \\sum_{i\\in LW}k_i \\le CBLimit         \\\\\n",
    "& & &  minLimit \\le \\sum_{i\\in LW}k_i \\le LBLimit         \\\\\n",
    "& & &  minLimit \\le \\sum_{i\\in LW}k_i \\le RBLimit         \\\\\n",
    "& & &  minLimit \\le \\sum_{i\\in LW}k_i \\le GKLimit         \\\\\n",
    "& & &        \\\\\n",
    "& & &  minForward \\le \\sum_{i\\in attack}k_i \\le maxForward \\\\\n",
    "& & &  minMid \\le \\sum_{i\\in midfield}k_i \\le maxMid       \\\\\n",
    "& & &  minBack \\le \\sum_{i\\in defend}k_i \\le maxBack     \\\\\n",
    "& & &  \\sum_{i}k_i = Num = 11   \\\\\n",
    "& & &  \\sum_{i\\in club_j}k_i \\le CBLimit   &\\forall j \\in C        \\\\\n",
    "& & &  k_i \\in 0,1  &\\forall i = 1,2 \\dots , n \\\\   \n",
    "\\end{aligned}\n",
    "\\end{equation}\n",
    "\n",
    "The midfield and defend models are similar except that λ are used to multiply the sum of midfield and defensive abilities."
   ]
  },
  {
   "cell_type": "markdown",
   "metadata": {},
   "source": [
    "The rating model is similar except that for objective, instead of using λ to find the optimization, we sum up the overall rating of all members that are selected and find its maximization.\n",
    "\n",
    "\\begin{equation}\n",
    "\\begin{aligned}\n",
    "& \\underset{k}{\\text{maximize}}\n",
    "& & \\sum_{i\\in\\ attackUmidfieldUdefense} k_i \n",
    "& \\forall j = 1,\\dots , n \\\\\n",
    "& \\text{subject to} & & \\sum_{i\\in GK} k_i = GKlimit \\\\\n",
    "& & &  \\ K^T\\cdot \\le MaxSalary \\\\\n",
    "& & &  minLimit \\le \\sum_{i\\in LW}k_i \\le LWLimit         \\\\\n",
    "& & &  minLimit \\le \\sum_{i\\in LW}k_i \\le RWLimit         \\\\\n",
    "& & &  minLimit \\le \\sum_{i\\in LW}k_i \\le STLimit         \\\\\n",
    "& & &  minLimit \\le \\sum_{i\\in LW}k_i \\le CFLimit         \\\\\n",
    "& & &  minLimit \\le \\sum_{i\\in LW}k_i \\le CMLimit         \\\\\n",
    "& & &  minLimit \\le \\sum_{i\\in LW}k_i \\le CAMLimit         \\\\\n",
    "& & &  minLimit \\le \\sum_{i\\in LW}k_i \\le CDMLimit         \\\\\n",
    "& & &  minLimit \\le \\sum_{i\\in LW}k_i \\le LMLimit         \\\\\n",
    "& & &  minLimit \\le \\sum_{i\\in LW}k_i \\le RMLimit         \\\\\n",
    "& & &  minLimit \\le \\sum_{i\\in LW}k_i \\le CBLimit         \\\\\n",
    "& & &  minLimit \\le \\sum_{i\\in LW}k_i \\le LBLimit         \\\\\n",
    "& & &  minLimit \\le \\sum_{i\\in LW}k_i \\le RBLimit         \\\\\n",
    "& & &  minLimit \\le \\sum_{i\\in LW}k_i \\le GKLimit         \\\\\n",
    "& & &        \\\\\n",
    "& & &  minForward \\le \\sum_{i\\in attack}k_i \\le maxForward \\\\\n",
    "& & &  minMid \\le \\sum_{i\\in midfield}k_i \\le maxMid       \\\\\n",
    "& & &  minBack \\le \\sum_{i\\in defend}k_i \\le maxBack     \\\\\n",
    "& & &  \\sum_{i}k_i = Num = 11   \\\\\n",
    "& & &  \\sum_{i\\in club_j}k_i \\le CBLimit   &\\forall j \\in C        \\\\\n",
    "& & &  k_i \\in 0,1  &\\forall i = 1,2 \\dots , n \\\\   \n",
    "\\end{aligned}\n",
    "\\end{equation}"
   ]
  },
  {
   "cell_type": "markdown",
   "metadata": {},
   "source": [
    "## 3. Solution ##\n"
   ]
  },
  {
   "cell_type": "code",
   "execution_count": 65,
   "metadata": {},
   "outputs": [],
   "source": [
    "using JuMP\n",
    "\n",
    "function analyzeData(raw)\n",
    "    \n",
    "    N = size(raw)[1] \n",
    "    raw = raw[2:N, :]\n",
    "\n",
    "    raw[:,21] = sum(raw[:,i] for i = 13:20)/8\n",
    "    raw[:,34] = sum(raw[:,i] for i = 22:33)/12\n",
    "    raw[:,42] = sum(raw[:,i] for i = 35:41)/7\n",
    "\n",
    "    GKindex = find(raw[:,6].==\"GK\")    # Rows containing GK's\n",
    "    LWindex = find(raw[:,6].==\"LW\")    # Rows containing LW's\n",
    "    RWindex = find(raw[:,6].==\"RW\")    # Rows containing RW's\n",
    "    STindex = find(raw[:,6].==\"ST\")    # Rows containing ST's\n",
    "    CFindex = find(raw[:,6].==\"CF\")    # Rows containing CF's\n",
    "    CMindex = find(raw[:,6].==\"CM\")    # Rows containing CM's\n",
    "    LMindex = find(raw[:,6].==\"LM\")    # Rows containing LM's\n",
    "    RMindex = find(raw[:,6].==\"RM\")    # Rows containing RM's\n",
    "    CAMindex = find(raw[:,6].==\"CAM\")  # Rows containing CAM's\n",
    "    CDMindex = find(raw[:,6].==\"CDM\")  # Rows containing CDM's\n",
    "    CBindex = find(raw[:,6].==\"CB\")    # Rows containing CB's\n",
    "    LBindex = find(raw[:,6].==\"LB\")    # Rows containing LB's\n",
    "    RBindex = find(raw[:,6].==\"RB\")    # Rows containing RB's\n",
    "\n",
    "    for i in [LWindex, RWindex, STindex, CFindex]\n",
    "        raw[i, 21] = raw[i, 1]\n",
    "    end\n",
    "\n",
    "    for i in [CMindex, LMindex, RMindex, CAMindex, CDMindex]\n",
    "        raw[i, 34] = raw[i, 1]\n",
    "    end\n",
    "\n",
    "    for i in [CBindex, LBindex, RBindex, GKindex]\n",
    "        raw[i, 42] = raw[i, 1]\n",
    "    end\n",
    "    \n",
    "    return raw\n",
    "end;"
   ]
  },
  {
   "cell_type": "code",
   "execution_count": 66,
   "metadata": {},
   "outputs": [],
   "source": [
    "using JuMP, Cbc\n",
    "\n",
    "function attackModel(λ, CBlimit, maxSalary, raw)\n",
    "    \n",
    "    N = size(raw)[1]                   # Number of players\n",
    "    GKindex = find(raw[:,6].==\"GK\")    # Rows containing GK's\n",
    "    LWindex = find(raw[:,6].==\"LW\")    # Rows containing LW's\n",
    "    RWindex = find(raw[:,6].==\"RW\")    # Rows containing RW's\n",
    "    STindex = find(raw[:,6].==\"ST\")    # Rows containing ST's\n",
    "    CFindex = find(raw[:,6].==\"CF\")    # Rows containing CF's\n",
    "    CMindex = find(raw[:,6].==\"CM\")    # Rows containing CM's\n",
    "    LMindex = find(raw[:,6].==\"LM\")    # Rows containing LM's\n",
    "    RMindex = find(raw[:,6].==\"RM\")    # Rows containing RM's\n",
    "    CAMindex = find(raw[:,6].==\"CAM\")  # Rows containing CAM's\n",
    "    CDMindex = find(raw[:,6].==\"CDM\")  # Rows containing CDM's\n",
    "    CBindex = find(raw[:,6].==\"CB\")    # Rows containing CB's\n",
    "    LBindex = find(raw[:,6].==\"LB\")    # Rows containing LB's\n",
    "    RBindex = find(raw[:,6].==\"RB\")    # Rows containing RB's\n",
    "    \n",
    "    clubs = unique(raw[:,7])           # List of unique clubs of the players\n",
    "    Num = 11                           # Total players in a team\n",
    "    T = length(clubs)                  # Number of unique clubs\n",
    "    minLimit = 0                       # Minimum number of player in every position (0)\n",
    "    minForward = 1                     # Minimum number of forward players(including LW, RW, ST, CF)\n",
    "    maxForward = 3                     # Maximum number of forward players(including LW, RW, ST, CF)\n",
    "    minMid = 3                         # Minimum number of midfield players(including CM, CAM, CDM, LM, RM)\n",
    "    maxMid = 5                         # Maximum number of midfield players(including CM, CAM, CDM, LM, RM)\n",
    "    minBack = 2                        # Minimum number of back players(including CB, LB, RB)\n",
    "    maxBack = 4                        # Maximum number of back players(including CB, LB, RB)\n",
    "    \n",
    "    # Maximum number of player in every position\n",
    "    GKlimit = LWlimit = RWlimit = STlimit = CFlimit = CMlimit = CAMlimit = 1  \n",
    "    CDMlimit = LMlimit = RMlimit = CAMlimit =  LBlimit = RBlimit = 1\n",
    "    CBlimit = 2\n",
    "    \n",
    "    m = Model(solver=CbcSolver())\n",
    "    \n",
    "    @variable(m, k[1:N], Bin)             # Indicator variable:  1- Player on team, 0- Player not on team\n",
    "    @constraint(m, sum{k[i]*raw[i,2], i=1:N} <= maxSalary)           # Salary cap constraint\n",
    "    @constraint(m, sum{k[i], i = GKindex} == GKlimit)                # Number of GK's constraint\n",
    "    @constraint(m, minLimit <= sum{k[i], i = LWindex} <= LWlimit)    # Number of LW's constraint\n",
    "    @constraint(m, minLimit <= sum{k[i], i = RWindex} <= RWlimit)    # Number of RW's constraint\n",
    "    @constraint(m, minLimit <= sum{k[i], i = STindex} <= STlimit)    # Number of ST's constraint\n",
    "    @constraint(m, minLimit <= sum{k[i], i = CFindex} <= CFlimit)    # Number of CF's constraint\n",
    "    @constraint(m, minLimit <= sum{k[i], i = CMindex} <= CMlimit)    # Number of CM's constraint\n",
    "    @constraint(m, minLimit <= sum{k[i], i = LMindex} <= LMlimit)    # Number of LM's constraint\n",
    "    @constraint(m, minLimit <= sum{k[i], i = RMindex} <= RMlimit)    # Number of RM's constraint\n",
    "    @constraint(m, minLimit <= sum{k[i], i = CAMindex} <= CAMlimit)  # Number of CAM's constraint\n",
    "    @constraint(m, minLimit <= sum{k[i], i = CDMindex} <= CDMlimit)  # Number of CDM's constraint\n",
    "    @constraint(m, minLimit <= sum{k[i], i = CBindex} <= CBlimit)    # Number of CB's constraint\n",
    "    @constraint(m, minLimit <= sum{k[i], i = LBindex} <= LBlimit)    # Number of LB's constraint\n",
    "    @constraint(m, minLimit <= sum{k[i], i = RBindex} <= RBlimit)    # Number of RB's constraint\n",
    "    \n",
    "    # Number of players(forward, midfield and back)constraint\n",
    "    @constraint(m, minForward <= sum{k[i], i = [LWindex; RWindex; STindex; CFindex]} <= maxForward)\n",
    "    @constraint(m, minMid <= sum{k[i], i = [CMindex; LMindex; RMindex; CAMindex; CDMindex]} <= maxMid)\n",
    "    @constraint(m, minBack <= sum{k[i], i = [CBindex; LBindex; RBindex]} <= maxBack)\n",
    "    \n",
    "    # Total number of players must be Num (11)\n",
    "    @constraint(m, sum{k[i], i = [GKindex; LWindex; RWindex; STindex; CFindex; CMindex; LMindex; RMindex; CAMindex; CDMindex; \n",
    "                                                CBindex; LBindex; RBindex]} == Num)\n",
    "    \n",
    "    # Maximize the overall ability according to the value of λ\n",
    "    @objective(m, Max, λ*sum{k[i]*raw[i,21], i=1:N} + (1-λ)/2*(sum{k[i]*raw[i,34], i=1:N} + sum{k[i]*raw[i,42], i=1:N}))\n",
    "    \n",
    "    solve(m);\n",
    "    \n",
    "    Ra = getvalue(sum(k.*raw[:,21]/Num))  # Average attack ability\n",
    "    Rm = getvalue(sum(k.*raw[:,34]/Num))  # Average midfield ability\n",
    "    Rd = getvalue(sum(k.*raw[:,42]/Num))  # Average defensive ability\n",
    "    R = getvalue(sum(k.*raw[:,1]/Num))    # Average overall ability\n",
    "    Ip = getvalue(k)                    # Indicator player vector\n",
    "    \n",
    "    return(R, Ra, Rm, Rd, Ip)\n",
    "end;"
   ]
  },
  {
   "cell_type": "code",
   "execution_count": 67,
   "metadata": {},
   "outputs": [],
   "source": [
    "using JuMP, Cbc\n",
    "\n",
    "function midfieldModel(λ, CBlimit, maxSalary, raw)\n",
    "    \n",
    "    N = size(raw)[1]                   # Number of players\n",
    "    GKindex = find(raw[:,6].==\"GK\")    # Rows containing GK's\n",
    "    LWindex = find(raw[:,6].==\"LW\")    # Rows containing LW's\n",
    "    RWindex = find(raw[:,6].==\"RW\")    # Rows containing RW's\n",
    "    STindex = find(raw[:,6].==\"ST\")    # Rows containing ST's\n",
    "    CFindex = find(raw[:,6].==\"CF\")    # Rows containing CF's\n",
    "    CMindex = find(raw[:,6].==\"CM\")    # Rows containing CM's\n",
    "    LMindex = find(raw[:,6].==\"LM\")    # Rows containing LM's\n",
    "    RMindex = find(raw[:,6].==\"RM\")    # Rows containing RM's\n",
    "    CAMindex = find(raw[:,6].==\"CAM\")  # Rows containing CAM's\n",
    "    CDMindex = find(raw[:,6].==\"CDM\")  # Rows containing CDM's\n",
    "    CBindex = find(raw[:,6].==\"CB\")    # Rows containing CB's\n",
    "    LBindex = find(raw[:,6].==\"LB\")    # Rows containing LB's\n",
    "    RBindex = find(raw[:,6].==\"RB\")    # Rows containing RB's\n",
    "    \n",
    "    clubs = unique(raw[:,7])           # List of unique clubs of the players\n",
    "    Num = 11                           # Total players in a team\n",
    "    T = length(clubs)                  # Number of unique clubs\n",
    "    minLimit = 0                       # Minimum number of player in every position (0)\n",
    "    minForward = 1                     # Minimum number of forward players(including LW, RW, ST, CF)\n",
    "    maxForward = 3                     # Maximum number of forward players(including LW, RW, ST, CF)\n",
    "    minMid = 3                         # Minimum number of midfield players(including CM, CAM, CDM, LM, RM)\n",
    "    maxMid = 5                         # Maximum number of midfield players(including CM, CAM, CDM, LM, RM)\n",
    "    minBack = 2                        # Minimum number of back players(including CB, LB, RB)\n",
    "    maxBack = 4                        # Maximum number of back players(including CB, LB, RB)\n",
    "    \n",
    "    # Maximum number of player in every position\n",
    "    GKlimit = LWlimit = RWlimit = STlimit = CFlimit = CMlimit = CAMlimit = 1  \n",
    "    CDMlimit = LMlimit = RMlimit = CAMlimit =  LBlimit = RBlimit = 1\n",
    "    CBlimit = 2\n",
    "    \n",
    "    m = Model(solver=CbcSolver())\n",
    "    \n",
    "    @variable(m, k[1:N], Bin)             # Indicator variable:  1- Player on team, 0- Player not on team\n",
    "    @constraint(m, sum{k[i]*raw[i,2], i=1:N} <= maxSalary)           # Salary cap constraint\n",
    "    @constraint(m, sum{k[i], i = GKindex} == GKlimit)                # Number of GK's constraint\n",
    "    @constraint(m, minLimit <= sum{k[i], i = LWindex} <= LWlimit)    # Number of LW's constraint\n",
    "    @constraint(m, minLimit <= sum{k[i], i = RWindex} <= RWlimit)    # Number of RW's constraint\n",
    "    @constraint(m, minLimit <= sum{k[i], i = STindex} <= STlimit)    # Number of ST's constraint\n",
    "    @constraint(m, minLimit <= sum{k[i], i = CFindex} <= CFlimit)    # Number of CF's constraint\n",
    "    @constraint(m, minLimit <= sum{k[i], i = CMindex} <= CMlimit)    # Number of CM's constraint\n",
    "    @constraint(m, minLimit <= sum{k[i], i = LMindex} <= LMlimit)    # Number of LM's constraint\n",
    "    @constraint(m, minLimit <= sum{k[i], i = RMindex} <= RMlimit)    # Number of RM's constraint\n",
    "    @constraint(m, minLimit <= sum{k[i], i = CAMindex} <= CAMlimit)  # Number of CAM's constraint\n",
    "    @constraint(m, minLimit <= sum{k[i], i = CDMindex} <= CDMlimit)  # Number of CDM's constraint\n",
    "    @constraint(m, minLimit <= sum{k[i], i = CBindex} <= CBlimit)    # Number of CB's constraint\n",
    "    @constraint(m, minLimit <= sum{k[i], i = LBindex} <= LBlimit)    # Number of LB's constraint\n",
    "    @constraint(m, minLimit <= sum{k[i], i = RBindex} <= RBlimit)    # Number of RB's constraint\n",
    "    \n",
    "    # Number of players(forward, midfield and back)constraint\n",
    "    @constraint(m, minForward <= sum{k[i], i = [LWindex; RWindex; STindex; CFindex]} <= maxForward)\n",
    "    @constraint(m, minMid <= sum{k[i], i = [CMindex; LMindex; RMindex; CAMindex; CDMindex]} <= maxMid)\n",
    "    @constraint(m, minBack <= sum{k[i], i = [CBindex; LBindex; RBindex]} <= maxBack)\n",
    "    \n",
    "    # Total number of players must be Num (11)\n",
    "    @constraint(m, sum{k[i], i = [GKindex; LWindex; RWindex; STindex; CFindex; CMindex; LMindex; RMindex; CAMindex; CDMindex; \n",
    "                                                CBindex; LBindex; RBindex]} == Num)\n",
    "    \n",
    "    # Maximize the overall ability according to the value of λ\n",
    "    @objective(m, Max, λ*sum{k[i]*raw[i,34], i=1:N} + (1-λ)/2*(sum{k[i]*raw[i,21], i=1:N} + sum{k[i]*raw[i,42], i=1:N}))\n",
    "    \n",
    "    solve(m);\n",
    "    \n",
    "    Ra = getvalue(sum(k.*raw[:,21]/Num))  # Average attack ability\n",
    "    Rm = getvalue(sum(k.*raw[:,34]/Num))  # Average midfield ability\n",
    "    Rd = getvalue(sum(k.*raw[:,42]/Num))  # Average defensive ability\n",
    "    R = getvalue(sum(k.*raw[:,1]/Num))    # Average overall ability\n",
    "    Ip = getvalue(k)                    # Indicator player vector\n",
    "    \n",
    "    return(R, Ra, Rm, Rd, Ip)\n",
    "end;"
   ]
  },
  {
   "cell_type": "code",
   "execution_count": 68,
   "metadata": {},
   "outputs": [],
   "source": [
    "using JuMP, Cbc\n",
    "\n",
    "function defendModel(λ, CBlimit, maxSalary, raw)\n",
    "    \n",
    "    N = size(raw)[1]                   # Number of players\n",
    "    GKindex = find(raw[:,6].==\"GK\")    # Rows containing GK's\n",
    "    LWindex = find(raw[:,6].==\"LW\")    # Rows containing LW's\n",
    "    RWindex = find(raw[:,6].==\"RW\")    # Rows containing RW's\n",
    "    STindex = find(raw[:,6].==\"ST\")    # Rows containing ST's\n",
    "    CFindex = find(raw[:,6].==\"CF\")    # Rows containing CF's\n",
    "    CMindex = find(raw[:,6].==\"CM\")    # Rows containing CM's\n",
    "    LMindex = find(raw[:,6].==\"LM\")    # Rows containing LM's\n",
    "    RMindex = find(raw[:,6].==\"RM\")    # Rows containing RM's\n",
    "    CAMindex = find(raw[:,6].==\"CAM\")  # Rows containing CAM's\n",
    "    CDMindex = find(raw[:,6].==\"CDM\")  # Rows containing CDM's\n",
    "    CBindex = find(raw[:,6].==\"CB\")    # Rows containing CB's\n",
    "    LBindex = find(raw[:,6].==\"LB\")    # Rows containing LB's\n",
    "    RBindex = find(raw[:,6].==\"RB\")    # Rows containing RB's\n",
    "    \n",
    "    clubs = unique(raw[:,7])           # List of unique clubs of the players\n",
    "    Num = 11                           # Total players in a team\n",
    "    T = length(clubs)                  # Number of unique clubs\n",
    "    minLimit = 0                       # Minimum number of player in every position (0)\n",
    "    minForward = 1                     # Minimum number of forward players(including LW, RW, ST, CF)\n",
    "    maxForward = 3                     # Maximum number of forward players(including LW, RW, ST, CF)\n",
    "    minMid = 3                         # Minimum number of midfield players(including CM, CAM, CDM, LM, RM)\n",
    "    maxMid = 5                         # Maximum number of midfield players(including CM, CAM, CDM, LM, RM)\n",
    "    minBack = 2                        # Minimum number of back players(including CB, LB, RB)\n",
    "    maxBack = 4                        # Maximum number of back players(including CB, LB, RB)\n",
    "    \n",
    "    # Maximum number of player in every position\n",
    "    GKlimit = LWlimit = RWlimit = STlimit = CFlimit = CMlimit = CAMlimit = 1  \n",
    "    CDMlimit = LMlimit = RMlimit = CAMlimit =  LBlimit = RBlimit = 1\n",
    "    CBlimit = 2\n",
    "    \n",
    "    m = Model(solver=CbcSolver())\n",
    "    \n",
    "    @variable(m, k[1:N], Bin)             # Indicator variable:  1- Player on team, 0- Player not on team\n",
    "    @constraint(m, sum{k[i]*raw[i,2], i=1:N} <= maxSalary)           # Salary cap constraint\n",
    "    @constraint(m, sum{k[i], i = GKindex} == GKlimit)                # Number of GK's constraint\n",
    "    @constraint(m, minLimit <= sum{k[i], i = LWindex} <= LWlimit)    # Number of LW's constraint\n",
    "    @constraint(m, minLimit <= sum{k[i], i = RWindex} <= RWlimit)    # Number of RW's constraint\n",
    "    @constraint(m, minLimit <= sum{k[i], i = STindex} <= STlimit)    # Number of ST's constraint\n",
    "    @constraint(m, minLimit <= sum{k[i], i = CFindex} <= CFlimit)    # Number of CF's constraint\n",
    "    @constraint(m, minLimit <= sum{k[i], i = CMindex} <= CMlimit)    # Number of CM's constraint\n",
    "    @constraint(m, minLimit <= sum{k[i], i = LMindex} <= LMlimit)    # Number of LM's constraint\n",
    "    @constraint(m, minLimit <= sum{k[i], i = RMindex} <= RMlimit)    # Number of RM's constraint\n",
    "    @constraint(m, minLimit <= sum{k[i], i = CAMindex} <= CAMlimit)  # Number of CAM's constraint\n",
    "    @constraint(m, minLimit <= sum{k[i], i = CDMindex} <= CDMlimit)  # Number of CDM's constraint\n",
    "    @constraint(m, minLimit <= sum{k[i], i = CBindex} <= CBlimit)    # Number of CB's constraint\n",
    "    @constraint(m, minLimit <= sum{k[i], i = LBindex} <= LBlimit)    # Number of LB's constraint\n",
    "    @constraint(m, minLimit <= sum{k[i], i = RBindex} <= RBlimit)    # Number of RB's constraint\n",
    "    \n",
    "    # Number of players(forward, midfield and back)constraint\n",
    "    @constraint(m, minForward <= sum{k[i], i = [LWindex; RWindex; STindex; CFindex]} <= maxForward)\n",
    "    @constraint(m, minMid <= sum{k[i], i = [CMindex; LMindex; RMindex; CAMindex; CDMindex]} <= maxMid)\n",
    "    @constraint(m, minBack <= sum{k[i], i = [CBindex; LBindex; RBindex]} <= maxBack)\n",
    "    \n",
    "    # Total number of players must be Num (11)\n",
    "    @constraint(m, sum{k[i], i = [GKindex; LWindex; RWindex; STindex; CFindex; CMindex; LMindex; RMindex; CAMindex; CDMindex; \n",
    "                                                CBindex; LBindex; RBindex]} == Num)\n",
    "    \n",
    "    # Maximize the overall ability according to the value of λ\n",
    "    @objective(m, Max, λ*sum{k[i]*raw[i,42], i=1:N} + (1-λ)/2*(sum{k[i]*raw[i,21], i=1:N} + sum{k[i]*raw[i,34], i=1:N}))\n",
    "    \n",
    "    solve(m);\n",
    "    \n",
    "    Ra = getvalue(sum(k.*raw[:,21]/Num))  # Average attack ability\n",
    "    Rm = getvalue(sum(k.*raw[:,34]/Num))  # Average midfield ability\n",
    "    Rd = getvalue(sum(k.*raw[:,42]/Num))  # Average defensive ability\n",
    "    R = getvalue(sum(k.*raw[:,1]/Num))    # Average overall ability\n",
    "    Ip = getvalue(k)                    # Indicator player vector\n",
    "    \n",
    "    return(R, Ra, Rm, Rd, Ip)\n",
    "end;"
   ]
  },
  {
   "cell_type": "code",
   "execution_count": 69,
   "metadata": {},
   "outputs": [],
   "source": [
    "using JuMP, Cbc\n",
    "\n",
    "function rateModel(CBlimit, maxSalary, raw)\n",
    "    \n",
    "    N = size(raw)[1]                   # Number of players\n",
    "    GKindex = find(raw[:,6].==\"GK\")    # Rows containing GK's\n",
    "    LWindex = find(raw[:,6].==\"LW\")    # Rows containing LW's\n",
    "    RWindex = find(raw[:,6].==\"RW\")    # Rows containing RW's\n",
    "    STindex = find(raw[:,6].==\"ST\")    # Rows containing ST's\n",
    "    CFindex = find(raw[:,6].==\"CF\")    # Rows containing CF's\n",
    "    CMindex = find(raw[:,6].==\"CM\")    # Rows containing CM's\n",
    "    LMindex = find(raw[:,6].==\"LM\")    # Rows containing LM's\n",
    "    RMindex = find(raw[:,6].==\"RM\")    # Rows containing RM's\n",
    "    CAMindex = find(raw[:,6].==\"CAM\")  # Rows containing CAM's\n",
    "    CDMindex = find(raw[:,6].==\"CDM\")  # Rows containing CDM's\n",
    "    CBindex = find(raw[:,6].==\"CB\")    # Rows containing CB's\n",
    "    LBindex = find(raw[:,6].==\"LB\")    # Rows containing LB's\n",
    "    RBindex = find(raw[:,6].==\"RB\")    # Rows containing RB's\n",
    "    \n",
    "    clubs = unique(raw[:,7])           # List of unique clubs of the players\n",
    "    Num = 11                           # Total players in a team\n",
    "    T = length(clubs)                  # Number of unique clubs\n",
    "    minLimit = 0                       # Minimum number of player in every position (0)\n",
    "    minForward = 1                     # Minimum number of forward players(including LW, RW, ST, CF)\n",
    "    maxForward = 3                     # Maximum number of forward players(including LW, RW, ST, CF)\n",
    "    minMid = 3                         # Minimum number of midfield players(including CM, CAM, CDM, LM, RM)\n",
    "    maxMid = 5                         # Maximum number of midfield players(including CM, CAM, CDM, LM, RM)\n",
    "    minBack = 2                        # Minimum number of back players(including CB, LB, RB)\n",
    "    maxBack = 4                        # Maximum number of back players(including CB, LB, RB)\n",
    "    \n",
    "    # Maximum number of player in every position\n",
    "    GKlimit = LWlimit = RWlimit = STlimit = CFlimit = CMlimit = CAMlimit = 1  \n",
    "    CDMlimit = LMlimit = RMlimit = CAMlimit =  LBlimit = RBlimit = 1\n",
    "    CBlimit = 2\n",
    "    \n",
    "    m = Model(solver=CbcSolver())\n",
    "    \n",
    "    @variable(m, k[1:N], Bin)             # Indicator variable:  1- Player on team, 0- Player not on team\n",
    "    @constraint(m, sum{k[i]*raw[i,2], i=1:N} <= maxSalary)           # Salary cap constraint\n",
    "    @constraint(m, sum{k[i], i = GKindex} == GKlimit)                # Number of GK's constraint\n",
    "    @constraint(m, minLimit <= sum{k[i], i = LWindex} <= LWlimit)    # Number of LW's constraint\n",
    "    @constraint(m, minLimit <= sum{k[i], i = RWindex} <= RWlimit)    # Number of RW's constraint\n",
    "    @constraint(m, minLimit <= sum{k[i], i = STindex} <= STlimit)    # Number of ST's constraint\n",
    "    @constraint(m, minLimit <= sum{k[i], i = CFindex} <= CFlimit)    # Number of CF's constraint\n",
    "    @constraint(m, minLimit <= sum{k[i], i = CMindex} <= CMlimit)    # Number of CM's constraint\n",
    "    @constraint(m, minLimit <= sum{k[i], i = LMindex} <= LMlimit)    # Number of LM's constraint\n",
    "    @constraint(m, minLimit <= sum{k[i], i = RMindex} <= RMlimit)    # Number of RM's constraint\n",
    "    @constraint(m, minLimit <= sum{k[i], i = CAMindex} <= CAMlimit)  # Number of CAM's constraint\n",
    "    @constraint(m, minLimit <= sum{k[i], i = CDMindex} <= CDMlimit)  # Number of CDM's constraint\n",
    "    @constraint(m, minLimit <= sum{k[i], i = CBindex} <= CBlimit)    # Number of CB's constraint\n",
    "    @constraint(m, minLimit <= sum{k[i], i = LBindex} <= LBlimit)    # Number of LB's constraint\n",
    "    @constraint(m, minLimit <= sum{k[i], i = RBindex} <= RBlimit)    # Number of RB's constraint\n",
    "    \n",
    "    # Number of players(forward, midfield and back)constraint\n",
    "    @constraint(m, minForward <= sum{k[i], i = [LWindex; RWindex; STindex; CFindex]} <= maxForward)\n",
    "    @constraint(m, minMid <= sum{k[i], i = [CMindex; LMindex; RMindex; CAMindex; CDMindex]} <= maxMid)\n",
    "    @constraint(m, minBack <= sum{k[i], i = [CBindex; LBindex; RBindex]} <= maxBack)\n",
    "    \n",
    "     # Limit amount of players from one particular team\n",
    "    for t = 1:T\n",
    "        clubIndex = find(raw[:,7].==clubs[t])\n",
    "        @constraint(m, sum{k[i], i = clubIndex} <= CBlimit)\n",
    "    end\n",
    "    \n",
    "    # Total number of players must be Num (11)\n",
    "    @constraint(m, sum{k[i], i = [GKindex; LWindex; RWindex; STindex; CFindex; CMindex; LMindex; RMindex; CAMindex; CDMindex; \n",
    "                                                CBindex; LBindex; RBindex]} == 11)\n",
    "    \n",
    "    # Maximize the overall ability according to the value of λ\n",
    "    @objective(m, Max, sum{k[i]*raw[i,1], i=1:N})\n",
    "    \n",
    "    solve(m);\n",
    "    \n",
    "    Ra = getvalue(sum(k.*raw[:,21]/Num))  # Average attack ability\n",
    "    Rm = getvalue(sum(k.*raw[:,34]/Num))  # Average midfield ability\n",
    "    Rd = getvalue(sum(k.*raw[:,42]/Num))  # Average defensive ability\n",
    "    R = getvalue(sum(k.*raw[:,1]/Num))    # Average overall ability\n",
    "    Ip = getvalue(k)                    # Indicator player vector\n",
    "\n",
    "    return(R, Ra, Rm, Rd, Ip)\n",
    "end;"
   ]
  },
  {
   "cell_type": "code",
   "execution_count": 70,
   "metadata": {},
   "outputs": [],
   "source": [
    "using JuMP,DataFrames\n",
    "\n",
    "data = \"CS524-FinalProjectDatabase.csv\"\n",
    "\n",
    "raw = readcsv(data);\n",
    "\n",
    "# Analyze data from csv file\n",
    "raw = analyzeData(raw)\n",
    "\n",
    "# Application variable\n",
    "λ = 0.6;\n",
    "\n",
    "# Max amount of players from the same team\n",
    "CBlimit = 5;\n",
    "\n",
    "# Salary cap for the week\n",
    "maxSalary = 80;"
   ]
  },
  {
   "cell_type": "markdown",
   "metadata": {},
   "source": [
    "## 4. Results and discussion ##\n",
    "\n",
    "The attack, midfield, defend and rating models provides a roster that best utilizes the available players given player salary, clubs and abilities according to its corresponding favors. Salary caps are suggested to be set between 50 million to 80 million. Greater the salary cap assigned, better the optimization will be."
   ]
  },
  {
   "cell_type": "code",
   "execution_count": 71,
   "metadata": {},
   "outputs": [
    {
     "name": "stdout",
     "output_type": "stream",
     "text": [
      "Total amounts of investment used (in million): 79.95299999999999\n"
     ]
    },
    {
     "data": {
      "text/html": [
       "<table class=\"data-frame\"><thead><tr><th></th><th>Player</th><th>Position</th><th>Club</th><th>Nation</th><th>Age</th><th>Salary</th><th>Attack</th><th>Midfield</th><th>Defence</th><th>Rating</th></tr></thead><tbody><tr><th>1</th><td>Kevin</td><td>GK</td><td>Paris Saint-Germain</td><td>Germany</td><td>25</td><td>4.12</td><td>66.625</td><td>25.25</td><td>84.0</td><td>84.0</td></tr><tr><th>2</th><td>Neymar</td><td>LW</td><td>FC Barcelona</td><td>Brazil</td><td>24</td><td>11.256</td><td>91.0</td><td>76.0833</td><td>86.8571</td><td>91.0</td></tr><tr><th>3</th><td>George</td><td>RW</td><td>Legends</td><td>Northern Ireland</td><td>69</td><td>10.356</td><td>90.0</td><td>82.8333</td><td>74.8571</td><td>90.0</td></tr><tr><th>4</th><td>Robbie</td><td>ST</td><td>Legends</td><td>England</td><td>40</td><td>3.125</td><td>86.0</td><td>75.0</td><td>65.4286</td><td>86.0</td></tr><tr><th>5</th><td>Ruud</td><td>CM</td><td>Legends</td><td>Holland</td><td>53</td><td>8.965</td><td>85.875</td><td>90.0</td><td>81.5714</td><td>90.0</td></tr><tr><th>6</th><td>Stefan</td><td>CAM</td><td>Legends</td><td>Germany</td><td>47</td><td>5.356</td><td>80.75</td><td>86.0</td><td>81.2857</td><td>86.0</td></tr><tr><th>7</th><td>Lothar</td><td>CDM</td><td>Legends</td><td>Germany</td><td>54</td><td>11.354</td><td>86.5</td><td>91.0</td><td>83.8571</td><td>91.0</td></tr><tr><th>8</th><td>Ronaldo</td><td>CB</td><td>VfL Wolfsburg</td><td>Brazil</td><td>33</td><td>5.328</td><td>77.0</td><td>65.1667</td><td>86.0</td><td>86.0</td></tr><tr><th>9</th><td>Jan</td><td>CB</td><td>Tottenham Hotspur</td><td>Belgium</td><td>28</td><td>4.652</td><td>72.75</td><td>69.6667</td><td>82.0</td><td>82.0</td></tr><tr><th>10</th><td>Marcelo</td><td>LB</td><td>Real Madrid CF</td><td>Brazil</td><td>27</td><td>8.231</td><td>85.875</td><td>84.6667</td><td>89.0</td><td>89.0</td></tr><tr><th>11</th><td>Xherdan</td><td>RM</td><td>Stoke City</td><td>Switzerland</td><td>24</td><td>7.21</td><td>86.75</td><td>82.0</td><td>71.1429</td><td>82.0</td></tr><tr><th>12</th><td>Average</td><td>/</td><td>/</td><td>/</td><td>39</td><td>7.26845</td><td>82.6477</td><td>75.2424</td><td>80.5455</td><td>87.0</td></tr></tbody></table>"
      ],
      "text/plain": [
       "12×10 DataFrames.DataFrame. Omitted printing of 5 columns\n",
       "│ Row │ Player  │ Position │ Club                │ Nation           │ Age │\n",
       "├─────┼─────────┼──────────┼─────────────────────┼──────────────────┼─────┤\n",
       "│ 1   │ Kevin   │ GK       │ Paris Saint-Germain │ Germany          │ 25  │\n",
       "│ 2   │ Neymar  │ LW       │ FC Barcelona        │ Brazil           │ 24  │\n",
       "│ 3   │ George  │ RW       │ Legends             │ Northern Ireland │ 69  │\n",
       "│ 4   │ Robbie  │ ST       │ Legends             │ England          │ 40  │\n",
       "│ 5   │ Ruud    │ CM       │ Legends             │ Holland          │ 53  │\n",
       "│ 6   │ Stefan  │ CAM      │ Legends             │ Germany          │ 47  │\n",
       "│ 7   │ Lothar  │ CDM      │ Legends             │ Germany          │ 54  │\n",
       "│ 8   │ Ronaldo │ CB       │ VfL Wolfsburg       │ Brazil           │ 33  │\n",
       "│ 9   │ Jan     │ CB       │ Tottenham Hotspur   │ Belgium          │ 28  │\n",
       "│ 10  │ Marcelo │ LB       │ Real Madrid CF      │ Brazil           │ 27  │\n",
       "│ 11  │ Xherdan │ RM       │ Stoke City          │ Switzerland      │ 24  │\n",
       "│ 12  │ Average │ /        │ /                   │ /                │ 39  │"
      ]
     },
     "execution_count": 71,
     "metadata": {},
     "output_type": "execute_result"
    }
   ],
   "source": [
    "using JuMP, DataFrames\n",
    "\n",
    "Num = 11        # Total players in a team\n",
    "\n",
    "# Run attack model\n",
    "(R, Ra, Rm, Rd, xopt) = attackModel(λ, CBlimit, maxSalary, raw)\n",
    "\n",
    "# Initialize data frame containing solution\n",
    "sol = DataFrame(Player = String[], Position = String[], Club = String[], \n",
    "                Nation = String[], Age = Int64[], Salary = Float64[], \n",
    "                Attack = Float64[], Midfield = Float64[], Defence = Float64[], Rating = Float64[])\n",
    "\n",
    "for i = 1:length(xopt)\n",
    "    if xopt[i] == 1\n",
    "        # Add to dataframe if player is selected\n",
    "        push!(sol, [raw[i,4] raw[i,6] raw[i,7] raw[i,9] raw[i,10] raw[i,2] raw[i,21] raw[i,34] raw[i,42] raw[i,1]])   \n",
    "    end\n",
    "end\n",
    "\n",
    "println(\"Total amounts of investment used (in million): \", sum(sol[:,6]))\n",
    "\n",
    "# Add total row\n",
    " push!(sol, [\"Average\", \"/\", \"/\", \"/\", round(sum(sol[:,5])/Num), sum(sol[:,6])/Num, Ra, \n",
    "                    Rm, Rd, sum(sol[:,10])/Num])\n",
    "\n",
    "# Display optimal team table\n",
    "sol"
   ]
  },
  {
   "cell_type": "code",
   "execution_count": 72,
   "metadata": {},
   "outputs": [
    {
     "name": "stdout",
     "output_type": "stream",
     "text": [
      "Total amounts of investment used (in million): 79.919\n"
     ]
    },
    {
     "data": {
      "text/html": [
       "<table class=\"data-frame\"><thead><tr><th></th><th>Player</th><th>Position</th><th>Club</th><th>Nation</th><th>Age</th><th>Salary</th><th>Attack</th><th>Midfield</th><th>Defence</th><th>Rating</th></tr></thead><tbody><tr><th>1</th><td>Jens</td><td>GK</td><td>Legends</td><td>Germany</td><td>46</td><td>8.487</td><td>66.25</td><td>38.25</td><td>88.0</td><td>88.0</td></tr><tr><th>2</th><td>Nicola</td><td>LW</td><td>Sassuolo</td><td>Italy</td><td>24</td><td>2.144</td><td>75.0</td><td>91.75</td><td>61.4286</td><td>75.0</td></tr><tr><th>3</th><td>George</td><td>RW</td><td>Legends</td><td>Northern Ireland</td><td>69</td><td>10.356</td><td>90.0</td><td>82.8333</td><td>74.8571</td><td>90.0</td></tr><tr><th>4</th><td>Wayne</td><td>ST</td><td>Manchester United</td><td>England</td><td>30</td><td>6.147</td><td>87.0</td><td>81.9167</td><td>70.5714</td><td>87.0</td></tr><tr><th>5</th><td>Arturo</td><td>CM</td><td>FC Bayern Munich</td><td>Chile</td><td>28</td><td>6.121</td><td>80.375</td><td>86.0</td><td>84.7143</td><td>86.0</td></tr><tr><th>6</th><td>Stefan</td><td>CAM</td><td>Legends</td><td>Germany</td><td>47</td><td>5.356</td><td>80.75</td><td>86.0</td><td>81.2857</td><td>86.0</td></tr><tr><th>7</th><td>Lothar</td><td>CDM</td><td>Legends</td><td>Germany</td><td>54</td><td>11.354</td><td>86.5</td><td>91.0</td><td>83.8571</td><td>91.0</td></tr><tr><th>8</th><td>Diego</td><td>CB</td><td>Atl??tico Madrid</td><td>Uruguay</td><td>29</td><td>7.654</td><td>71.5</td><td>72.9167</td><td>89.0</td><td>89.0</td></tr><tr><th>9</th><td>Frank</td><td>CB</td><td>Legends</td><td>Holland</td><td>45</td><td>6.215</td><td>69.375</td><td>73.5833</td><td>86.0</td><td>86.0</td></tr><tr><th>10</th><td>Marcelo</td><td>LB</td><td>Real Madrid CF</td><td>Brazil</td><td>27</td><td>8.231</td><td>85.875</td><td>84.6667</td><td>89.0</td><td>89.0</td></tr><tr><th>11</th><td>Gareth</td><td>RM</td><td>Real Madrid CF</td><td>Wales</td><td>26</td><td>7.854</td><td>88.5</td><td>87.0</td><td>71.2857</td><td>87.0</td></tr><tr><th>12</th><td>Average</td><td>/</td><td>/</td><td>/</td><td>39</td><td>7.26536</td><td>80.1023</td><td>79.6288</td><td>80.0</td><td>86.7273</td></tr></tbody></table>"
      ],
      "text/plain": [
       "12×10 DataFrames.DataFrame. Omitted printing of 5 columns\n",
       "│ Row │ Player  │ Position │ Club              │ Nation           │ Age │\n",
       "├─────┼─────────┼──────────┼───────────────────┼──────────────────┼─────┤\n",
       "│ 1   │ Jens    │ GK       │ Legends           │ Germany          │ 46  │\n",
       "│ 2   │ Nicola  │ LW       │ Sassuolo          │ Italy            │ 24  │\n",
       "│ 3   │ George  │ RW       │ Legends           │ Northern Ireland │ 69  │\n",
       "│ 4   │ Wayne   │ ST       │ Manchester United │ England          │ 30  │\n",
       "│ 5   │ Arturo  │ CM       │ FC Bayern Munich  │ Chile            │ 28  │\n",
       "│ 6   │ Stefan  │ CAM      │ Legends           │ Germany          │ 47  │\n",
       "│ 7   │ Lothar  │ CDM      │ Legends           │ Germany          │ 54  │\n",
       "│ 8   │ Diego   │ CB       │ Atl??tico Madrid  │ Uruguay          │ 29  │\n",
       "│ 9   │ Frank   │ CB       │ Legends           │ Holland          │ 45  │\n",
       "│ 10  │ Marcelo │ LB       │ Real Madrid CF    │ Brazil           │ 27  │\n",
       "│ 11  │ Gareth  │ RM       │ Real Madrid CF    │ Wales            │ 26  │\n",
       "│ 12  │ Average │ /        │ /                 │ /                │ 39  │"
      ]
     },
     "execution_count": 72,
     "metadata": {},
     "output_type": "execute_result"
    }
   ],
   "source": [
    "using JuMP, DataFrames\n",
    "\n",
    "Num = 11        # Total players in a team\n",
    "\n",
    "# Run midfield model\n",
    "(R, Ra, Rm, Rd, xopt) = midfieldModel(λ, CBlimit, maxSalary, raw)\n",
    "\n",
    "# Initialize data frame containing solution\n",
    "sol = DataFrame(Player = String[], Position = String[], Club = String[], \n",
    "                Nation = String[], Age = Int64[], Salary = Float64[], \n",
    "                Attack = Float64[], Midfield = Float64[], Defence = Float64[], Rating = Float64[])\n",
    "\n",
    "for i = 1:length(xopt)\n",
    "    if xopt[i] == 1\n",
    "        # Add to dataframe if player is selected\n",
    "        push!(sol, [raw[i,4] raw[i,6] raw[i,7] raw[i,9] raw[i,10] raw[i,2] raw[i,21] raw[i,34] raw[i,42] raw[i,1]])   \n",
    "    end\n",
    "end\n",
    "\n",
    "println(\"Total amounts of investment used (in million): \", sum(sol[:,6]))\n",
    "\n",
    "# Add total row\n",
    " push!(sol, [\"Average\", \"/\", \"/\", \"/\", round(sum(sol[:,5])/Num), sum(sol[:,6])/Num, sum(sol[:,7])/Num, \n",
    "                    sum(sol[:,8])/Num, sum(sol[:,9])/Num, sum(sol[:,10])/Num])\n",
    "\n",
    "# Display optimal team table\n",
    "sol"
   ]
  },
  {
   "cell_type": "code",
   "execution_count": 73,
   "metadata": {},
   "outputs": [
    {
     "name": "stdout",
     "output_type": "stream",
     "text": [
      "Total amounts of investment used (in million): 79.77999999999999\n"
     ]
    },
    {
     "data": {
      "text/html": [
       "<table class=\"data-frame\"><thead><tr><th></th><th>Player</th><th>Position</th><th>Club</th><th>Nation</th><th>Age</th><th>Salary</th><th>Attack</th><th>Midfield</th><th>Defence</th><th>Rating</th></tr></thead><tbody><tr><th>1</th><td>Jens</td><td>GK</td><td>Legends</td><td>Germany</td><td>46</td><td>8.487</td><td>66.25</td><td>38.25</td><td>88.0</td><td>88.0</td></tr><tr><th>2</th><td>Neymar</td><td>LW</td><td>FC Barcelona</td><td>Brazil</td><td>24</td><td>11.256</td><td>91.0</td><td>76.0833</td><td>86.8571</td><td>91.0</td></tr><tr><th>3</th><td>Henrikh</td><td>RW</td><td>Borussia Dortmund</td><td>Armenia</td><td>27</td><td>7.458</td><td>82.0</td><td>75.6667</td><td>75.8571</td><td>82.0</td></tr><tr><th>4</th><td>Wayne</td><td>ST</td><td>Manchester United</td><td>England</td><td>30</td><td>6.147</td><td>87.0</td><td>81.9167</td><td>70.5714</td><td>87.0</td></tr><tr><th>5</th><td>Arturo</td><td>CM</td><td>FC Bayern Munich</td><td>Chile</td><td>28</td><td>6.121</td><td>80.375</td><td>86.0</td><td>84.7143</td><td>86.0</td></tr><tr><th>6</th><td>Stefan</td><td>CAM</td><td>Legends</td><td>Germany</td><td>47</td><td>5.356</td><td>80.75</td><td>86.0</td><td>81.2857</td><td>86.0</td></tr><tr><th>7</th><td>Nemanja</td><td>CDM</td><td>Chelsea</td><td>Serbia</td><td>27</td><td>5.654</td><td>72.875</td><td>84.0</td><td>83.8571</td><td>84.0</td></tr><tr><th>8</th><td>Franz</td><td>CB</td><td>Legends</td><td>Germany</td><td>70</td><td>12.523</td><td>80.0</td><td>79.9167</td><td>93.0</td><td>93.0</td></tr><tr><th>9</th><td>Frank</td><td>CB</td><td>Legends</td><td>Holland</td><td>45</td><td>6.215</td><td>69.375</td><td>73.5833</td><td>86.0</td><td>86.0</td></tr><tr><th>10</th><td>Marcelo</td><td>LB</td><td>Real Madrid CF</td><td>Brazil</td><td>27</td><td>8.231</td><td>85.875</td><td>84.6667</td><td>89.0</td><td>89.0</td></tr><tr><th>11</th><td>Eden??lson</td><td>RM</td><td>Udinese</td><td>Brazil</td><td>26</td><td>2.332</td><td>75.375</td><td>75.0</td><td>71.1429</td><td>75.0</td></tr><tr><th>12</th><td>Average</td><td>/</td><td>/</td><td>/</td><td>36</td><td>7.25273</td><td>79.1705</td><td>76.4621</td><td>82.7532</td><td>86.0909</td></tr></tbody></table>"
      ],
      "text/plain": [
       "12×10 DataFrames.DataFrame. Omitted printing of 4 columns\n",
       "│ Row │ Player     │ Position │ Club              │ Nation  │ Age │ Salary  │\n",
       "├─────┼────────────┼──────────┼───────────────────┼─────────┼─────┼─────────┤\n",
       "│ 1   │ Jens       │ GK       │ Legends           │ Germany │ 46  │ 8.487   │\n",
       "│ 2   │ Neymar     │ LW       │ FC Barcelona      │ Brazil  │ 24  │ 11.256  │\n",
       "│ 3   │ Henrikh    │ RW       │ Borussia Dortmund │ Armenia │ 27  │ 7.458   │\n",
       "│ 4   │ Wayne      │ ST       │ Manchester United │ England │ 30  │ 6.147   │\n",
       "│ 5   │ Arturo     │ CM       │ FC Bayern Munich  │ Chile   │ 28  │ 6.121   │\n",
       "│ 6   │ Stefan     │ CAM      │ Legends           │ Germany │ 47  │ 5.356   │\n",
       "│ 7   │ Nemanja    │ CDM      │ Chelsea           │ Serbia  │ 27  │ 5.654   │\n",
       "│ 8   │ Franz      │ CB       │ Legends           │ Germany │ 70  │ 12.523  │\n",
       "│ 9   │ Frank      │ CB       │ Legends           │ Holland │ 45  │ 6.215   │\n",
       "│ 10  │ Marcelo    │ LB       │ Real Madrid CF    │ Brazil  │ 27  │ 8.231   │\n",
       "│ 11  │ Eden??lson │ RM       │ Udinese           │ Brazil  │ 26  │ 2.332   │\n",
       "│ 12  │ Average    │ /        │ /                 │ /       │ 36  │ 7.25273 │"
      ]
     },
     "execution_count": 73,
     "metadata": {},
     "output_type": "execute_result"
    }
   ],
   "source": [
    "using JuMP, DataFrames\n",
    "\n",
    "Num = 11      # Total players in a team\n",
    "\n",
    "# Run defend model\n",
    "(R, Ra, Rm, Rd, xopt) = defendModel(λ, CBlimit, maxSalary, raw)\n",
    "\n",
    "# Initialize data frame containing solution\n",
    "sol = DataFrame(Player = String[], Position = String[], Club = String[], \n",
    "                Nation = String[], Age = Int64[], Salary = Float64[], \n",
    "                Attack = Float64[], Midfield = Float64[], Defence = Float64[], Rating = Float64[])\n",
    "\n",
    "for i = 1:length(xopt)\n",
    "    if xopt[i] == 1\n",
    "        # Add to dataframe if player is selected\n",
    "        push!(sol, [raw[i,4] raw[i,6] raw[i,7] raw[i,9] raw[i,10] raw[i,2] raw[i,21] raw[i,34] raw[i,42] raw[i,1]])   \n",
    "    end\n",
    "end\n",
    "\n",
    "println(\"Total amounts of investment used (in million): \", sum(sol[:,6]))\n",
    "\n",
    "# Add total row\n",
    " push!(sol, [\"Average\", \"/\", \"/\", \"/\", round(sum(sol[:,5])/Num), sum(sol[:,6])/Num, sum(sol[:,7])/Num, \n",
    "                    sum(sol[:,8])/Num, sum(sol[:,9])/Num, sum(sol[:,10])/Num])\n",
    "\n",
    "# Display optimal team table\n",
    "sol"
   ]
  },
  {
   "cell_type": "code",
   "execution_count": 74,
   "metadata": {},
   "outputs": [
    {
     "name": "stdout",
     "output_type": "stream",
     "text": [
      "Total amounts of investment used (in million): 79.252\n"
     ]
    },
    {
     "data": {
      "text/html": [
       "<table class=\"data-frame\"><thead><tr><th></th><th>Player</th><th>Position</th><th>Club</th><th>Nation</th><th>Age</th><th>Salary</th><th>Attack</th><th>Midfield</th><th>Defence</th><th>Rating</th></tr></thead><tbody><tr><th>1</th><td>St??phane</td><td>GK</td><td>AS Saint-??tienne</td><td>France</td><td>29</td><td>3.586</td><td>60.0</td><td>24.6667</td><td>84.0</td><td>84.0</td></tr><tr><th>2</th><td>C. Ronaldo</td><td>LW</td><td>Real Madrid CF</td><td>Portugal</td><td>31</td><td>14.654</td><td>96.0</td><td>81.0</td><td>56.2857</td><td>96.0</td></tr><tr><th>3</th><td>Robbie</td><td>ST</td><td>Legends</td><td>England</td><td>40</td><td>3.125</td><td>86.0</td><td>75.0</td><td>65.4286</td><td>86.0</td></tr><tr><th>4</th><td>Kevin</td><td>CM</td><td>Manchester City</td><td>Belgium</td><td>24</td><td>6.322</td><td>82.75</td><td>87.0</td><td>62.0</td><td>87.0</td></tr><tr><th>5</th><td>Dennis</td><td>CF</td><td>Legends</td><td>Holland</td><td>46</td><td>10.025</td><td>90.0</td><td>77.3333</td><td>53.8571</td><td>90.0</td></tr><tr><th>6</th><td>Kevin</td><td>CAM</td><td>Manchester City</td><td>Belgium</td><td>24</td><td>7.012</td><td>83.25</td><td>88.0</td><td>62.5714</td><td>88.0</td></tr><tr><th>7</th><td>Sergio</td><td>CDM</td><td>FC Barcelona</td><td>Spain</td><td>27</td><td>6.354</td><td>61.375</td><td>86.0</td><td>79.7143</td><td>86.0</td></tr><tr><th>8</th><td>J??r??me</td><td>CB</td><td>FC Bayern Munich</td><td>Germany</td><td>27</td><td>5.958</td><td>71.75</td><td>65.5</td><td>87.0</td><td>87.0</td></tr><tr><th>9</th><td>Ronaldo</td><td>CB</td><td>VfL Wolfsburg</td><td>Brazil</td><td>33</td><td>5.328</td><td>77.0</td><td>65.1667</td><td>86.0</td><td>86.0</td></tr><tr><th>10</th><td>Marcelo</td><td>LB</td><td>Real Madrid CF</td><td>Brazil</td><td>27</td><td>8.231</td><td>85.875</td><td>84.6667</td><td>89.0</td><td>89.0</td></tr><tr><th>11</th><td>Arjen</td><td>RM</td><td>FC Bayern Munich</td><td>Holland</td><td>32</td><td>8.657</td><td>90.125</td><td>90.0</td><td>51.8571</td><td>90.0</td></tr><tr><th>12</th><td>Average</td><td>/</td><td>/</td><td>/</td><td>31</td><td>7.20473</td><td>80.375</td><td>74.9394</td><td>70.7013</td><td>88.0909</td></tr></tbody></table>"
      ],
      "text/plain": [
       "12×10 DataFrames.DataFrame. Omitted printing of 4 columns\n",
       "│ Row │ Player     │ Position │ Club              │ Nation   │ Age │ Salary  │\n",
       "├─────┼────────────┼──────────┼───────────────────┼──────────┼─────┼─────────┤\n",
       "│ 1   │ St??phane  │ GK       │ AS Saint-??tienne │ France   │ 29  │ 3.586   │\n",
       "│ 2   │ C. Ronaldo │ LW       │ Real Madrid CF    │ Portugal │ 31  │ 14.654  │\n",
       "│ 3   │ Robbie     │ ST       │ Legends           │ England  │ 40  │ 3.125   │\n",
       "│ 4   │ Kevin      │ CM       │ Manchester City   │ Belgium  │ 24  │ 6.322   │\n",
       "│ 5   │ Dennis     │ CF       │ Legends           │ Holland  │ 46  │ 10.025  │\n",
       "│ 6   │ Kevin      │ CAM      │ Manchester City   │ Belgium  │ 24  │ 7.012   │\n",
       "│ 7   │ Sergio     │ CDM      │ FC Barcelona      │ Spain    │ 27  │ 6.354   │\n",
       "│ 8   │ J??r??me   │ CB       │ FC Bayern Munich  │ Germany  │ 27  │ 5.958   │\n",
       "│ 9   │ Ronaldo    │ CB       │ VfL Wolfsburg     │ Brazil   │ 33  │ 5.328   │\n",
       "│ 10  │ Marcelo    │ LB       │ Real Madrid CF    │ Brazil   │ 27  │ 8.231   │\n",
       "│ 11  │ Arjen      │ RM       │ FC Bayern Munich  │ Holland  │ 32  │ 8.657   │\n",
       "│ 12  │ Average    │ /        │ /                 │ /        │ 31  │ 7.20473 │"
      ]
     },
     "execution_count": 74,
     "metadata": {},
     "output_type": "execute_result"
    }
   ],
   "source": [
    "using JuMP, DataFrames\n",
    "\n",
    "Num = 11        # Total players in a team\n",
    "\n",
    "# Run rate model\n",
    "(R, Ra, Rm, Rd, xopt) = rateModel(CBlimit, maxSalary, raw)\n",
    "\n",
    "# Initialize data frame containing solution\n",
    "sol = DataFrame(Player = String[], Position = String[], Club = String[], \n",
    "                Nation = String[], Age = Int64[], Salary = Float64[], \n",
    "                Attack = Float64[], Midfield = Float64[], Defence = Float64[], Rating = Float64[])\n",
    "\n",
    "for i = 1:length(xopt)\n",
    "    if xopt[i] == 1\n",
    "        # Add to dataframe if player is selected\n",
    "        push!(sol, [raw[i,4] raw[i,6] raw[i,7] raw[i,9] raw[i,10] raw[i,2] raw[i,21] raw[i,34] raw[i,42] raw[i,1]])   \n",
    "    end\n",
    "end\n",
    "\n",
    "println(\"Total amounts of investment used (in million): \", sum(sol[:,6]))\n",
    "\n",
    "# Add total row\n",
    " push!(sol, [\"Average\", \"/\", \"/\", \"/\", round(sum(sol[:,5])/Num), sum(sol[:,6])/Num, sum(sol[:,7])/Num, \n",
    "                    sum(sol[:,8])/Num, sum(sol[:,9])/Num, sum(sol[:,10])/Num])\n",
    "\n",
    "# Display optimal team table\n",
    "sol"
   ]
  },
  {
   "cell_type": "markdown",
   "metadata": {},
   "source": [
    "In order to compare the performances and results of four models, four graphs are made below to represent the average attack, midfield, defense abilities and rating when the salary cap is chosen from 50 million to 80 million (λ here is set to 0.6). "
   ]
  },
  {
   "cell_type": "markdown",
   "metadata": {},
   "source": [
    "### As shown in the first graph, attack model has the highest attack ability and other three models have relatively close stats, whereas the values of rating model scatter in a greater range."
   ]
  },
  {
   "cell_type": "code",
   "execution_count": 75,
   "metadata": {},
   "outputs": [
    {
     "data": {
      "image/png": "[encoded data removed]",
      "text/plain": [
       "PyPlot.Figure(PyObject <Figure size 800x400 with 1 Axes>)"
      ]
     },
     "metadata": {},
     "output_type": "display_data"
    },
    {
     "data": {
      "text/plain": [
       "PyObject <matplotlib.legend.Legend object at 0x162f48198>"
      ]
     },
     "execution_count": 75,
     "metadata": {},
     "output_type": "execute_result"
    }
   ],
   "source": [
    "using JuMP, DataFrames, PyPlot\n",
    "\n",
    "Num = 11        # Total players in a team\n",
    "\n",
    "figure(figsize=(8,4))\n",
    "for maxSalary = 50:0.5:80\n",
    "    (R1, Ra1, Rm1, Rd1, xopt1) = attackModel(λ, CBlimit, maxSalary, raw)\n",
    "    (R2, Ra2, Rm2, Rd2, xopt2) = midfieldModel(λ, CBlimit, maxSalary, raw)\n",
    "    (R3, Ra3, Rm3, Rd3, xopt3) = defendModel(λ, CBlimit, maxSalary, raw)\n",
    "    (R4, Ra4, Rm4, Rd4, xopt4) = rateModel(CBlimit, maxSalary, raw)\n",
    "    plot(maxSalary, Ra1,\"r.\", markersize=5)\n",
    "    plot(maxSalary, Ra2,\"b.\", markersize=5)\n",
    "    plot(maxSalary, Ra3,\"y.\", markersize=5)\n",
    "    plot(maxSalary, Ra4,\"k.\", markersize=5)\n",
    "end\n",
    "axis([50,80,70,85])\n",
    "grid(\"on\")\n",
    "ylabel(\"Attack Ability\")\n",
    "xlabel(\"Salary Cap (million)\")\n",
    "legend([\"Attack Model\", \"Midfield Model\", \"Defense Model\", \"Rating Model\"])"
   ]
  },
  {
   "cell_type": "markdown",
   "metadata": {},
   "source": [
    "### In the second graph, midfield model has the highest midfield ability, and the attack model possess the second highest stats. "
   ]
  },
  {
   "cell_type": "code",
   "execution_count": 37,
   "metadata": {},
   "outputs": [
    {
     "data": {
      "image/png": "[encoded data removed]",
      "text/plain": [
       "PyPlot.Figure(PyObject <Figure size 800x400 with 1 Axes>)"
      ]
     },
     "metadata": {},
     "output_type": "display_data"
    },
    {
     "data": {
      "text/plain": [
       "PyObject <matplotlib.legend.Legend object at 0x1621e1a58>"
      ]
     },
     "execution_count": 37,
     "metadata": {},
     "output_type": "execute_result"
    }
   ],
   "source": [
    "using JuMP, DataFrames, PyPlot\n",
    "\n",
    "Num = 11        # Total players in a team\n",
    "\n",
    "figure(figsize=(8,4))\n",
    "for maxSalary = 50:0.5:80\n",
    "    (R1, Ra1, Rm1, Rd1, xopt1) = attackModel(λ, CBlimit, maxSalary, raw)\n",
    "    (R2, Ra2, Rm2, Rd2, xopt2) = midfieldModel(λ, CBlimit, maxSalary, raw)\n",
    "    (R3, Ra3, Rm3, Rd3, xopt3) = defendModel(λ, CBlimit, maxSalary, raw)\n",
    "    (R4, Ra4, Rm4, Rd4, xopt4) = rateModel(CBlimit, maxSalary, raw)\n",
    "    plot(maxSalary, Rm1,\"r.\", markersize=5)\n",
    "    plot(maxSalary, Rm2,\"b.\", markersize=5)\n",
    "    plot(maxSalary, Rm3,\"y.\", markersize=5)\n",
    "    plot(maxSalary, Rm4,\"k.\", markersize=5)\n",
    "end\n",
    "axis([50,80,70,85])\n",
    "grid(\"on\")\n",
    "ylabel(\"Midfield Ability\")\n",
    "xlabel(\"Salary Cap (million)\")\n",
    "legend([\"Attack Model\", \"Midfield Model\", \"Defense Model\", \"Rating Model\"])"
   ]
  },
  {
   "cell_type": "markdown",
   "metadata": {},
   "source": [
    "### In the third graph, defense model has the highest defensive ability but the rating model has significantly lower defensive ability than the other three."
   ]
  },
  {
   "cell_type": "code",
   "execution_count": 38,
   "metadata": {},
   "outputs": [
    {
     "data": {
      "image/png": "[encoded data removed]",
      "text/plain": [
       "PyPlot.Figure(PyObject <Figure size 800x400 with 1 Axes>)"
      ]
     },
     "metadata": {},
     "output_type": "display_data"
    },
    {
     "data": {
      "text/plain": [
       "PyObject <matplotlib.legend.Legend object at 0x162396390>"
      ]
     },
     "execution_count": 38,
     "metadata": {},
     "output_type": "execute_result"
    }
   ],
   "source": [
    "using JuMP, DataFrames, PyPlot\n",
    "\n",
    "Num = 11        # Total players in a team\n",
    "\n",
    "figure(figsize=(8,4))\n",
    "for maxSalary = 50:0.5:80\n",
    "    (R1, Ra1, Rm1, Rd1, xopt1) = attackModel(λ, CBlimit, maxSalary, raw)\n",
    "    (R2, Ra2, Rm2, Rd2, xopt2) = midfieldModel(λ, CBlimit, maxSalary, raw)\n",
    "    (R3, Ra3, Rm3, Rd3, xopt3) = defendModel(λ, CBlimit, maxSalary, raw)\n",
    "    (R4, Ra4, Rm4, Rd4, xopt4) = rateModel(CBlimit, maxSalary, raw)\n",
    "    plot(maxSalary, Rd1,\"r.\", markersize=5)\n",
    "    plot(maxSalary, Rd2,\"b.\", markersize=5)\n",
    "    plot(maxSalary, Rd3,\"y.\", markersize=5)\n",
    "    plot(maxSalary, Rd4,\"k.\", markersize=5)\n",
    "end\n",
    "axis([50,80,70,85])\n",
    "grid(\"on\")\n",
    "ylabel(\"Defense Ability\")\n",
    "xlabel(\"Salary Cap (million)\")\n",
    "legend([\"Attack Model\", \"Midfield Model\", \"Defense Model\", \"Rating Model\"])"
   ]
  },
  {
   "cell_type": "markdown",
   "metadata": {},
   "source": [
    "### In the fourth graph, rating model has the highest overall rating, and three other models has similar values of rating. "
   ]
  },
  {
   "cell_type": "code",
   "execution_count": 39,
   "metadata": {},
   "outputs": [
    {
     "data": {
      "image/png": "[encoded data removed]",
      "text/plain": [
       "PyPlot.Figure(PyObject <Figure size 800x400 with 1 Axes>)"
      ]
     },
     "metadata": {},
     "output_type": "display_data"
    },
    {
     "data": {
      "text/plain": [
       "PyObject <matplotlib.legend.Legend object at 0x162886908>"
      ]
     },
     "execution_count": 39,
     "metadata": {},
     "output_type": "execute_result"
    }
   ],
   "source": [
    "using JuMP, DataFrames, PyPlot\n",
    "\n",
    "Num = 11        # Total players in a team\n",
    "\n",
    "figure(figsize=(8,4))\n",
    "for maxSalary = 50:0.5:80\n",
    "    (R1, Ra1, Rm1, Rd1, xopt1) = attackModel(λ, CBlimit, maxSalary, raw)\n",
    "    (R2, Ra2, Rm2, Rd2, xopt2) = midfieldModel(λ, CBlimit, maxSalary, raw)\n",
    "    (R3, Ra3, Rm3, Rd3, xopt3) = defendModel(λ, CBlimit, maxSalary, raw)\n",
    "    (R4, Ra4, Rm4, Rd4, xopt4) = rateModel(CBlimit, maxSalary, raw)\n",
    "    plot(maxSalary, R1,\"r.\", markersize=5)\n",
    "    plot(maxSalary, R2,\"b.\", markersize=5)\n",
    "    plot(maxSalary, R3,\"y.\", markersize=5)\n",
    "    plot(maxSalary, R4,\"k.\", markersize=5)\n",
    "end\n",
    "axis([50,80,80,90])\n",
    "grid(\"on\")\n",
    "ylabel(\"Average Rating\")\n",
    "xlabel(\"Salary Cap (million)\")\n",
    "legend([\"Attack Model\", \"Midfield Model\", \"Defense Model\", \"Rating Model\"])"
   ]
  },
  {
   "cell_type": "markdown",
   "metadata": {},
   "source": [
    "Therefore, if the user want to build up a team that has decent performance in all four aspects, they will be suggested to choose the attack model; if the user want to build up a team that has great midfield and defense abilities but not requires a really good attack ability, they will be suggested to choose the midfield model; if the user want to build up a team that strongly on defensive based but not on other aspects (especially for midfield), they can be suggested to choose the defensive model; if the user want to build up a team that looks fancy (high rating) but not really stable, they can be suggested to choose the rating model. "
   ]
  },
  {
   "cell_type": "markdown",
   "metadata": {},
   "source": [
    "### Limitation:\n",
    "Our first limitation is that the model is heavily depending on the quality of data, the data is based on the FIFA game forum and is analyzed by the function analyzeData(). However, only taking the mean of the data may not produce the exact performance of each player. \n",
    "\n",
    "One possible improvement we can do with this is: in the function anaylzeData(), we can calculate the standard deviation of all values in each type of abilities and find out the p-value of each player in the whole dataset. In that way, we can possibly find out the real ranking of each player in dataset.\n",
    "\n",
    "Our second limitation is that the age of a player may affect his performance. Normally the peak age of a soccer should be 25 to 27. The performance of a player may fall down after that range. \n",
    "\n",
    "One possible solution for this is that we can create a function that connect between the age and abilities. When a player is at his age of 25-27, his ability is not changed. However, when the player’s age is smaller or larger than that, some deductions can be made based on his original value."
   ]
  },
  {
   "cell_type": "markdown",
   "metadata": {},
   "source": [
    "A model with error is shown below."
   ]
  },
  {
   "cell_type": "code",
   "execution_count": 76,
   "metadata": {},
   "outputs": [],
   "source": [
    "using JuMP, Cbc\n",
    "\n",
    "function wrongattackModel(λ, CBlimit, maxSalary, raw)\n",
    "    \n",
    "    N = size(raw)[1]                   # Number of players\n",
    "    GKindex = find(raw[:,6].==\"GK\")    # Rows containing GK's\n",
    "    LWindex = find(raw[:,6].==\"LW\")    # Rows containing LW's\n",
    "    RWindex = find(raw[:,6].==\"RW\")    # Rows containing RW's\n",
    "    STindex = find(raw[:,6].==\"ST\")    # Rows containing ST's\n",
    "    CFindex = find(raw[:,6].==\"CF\")    # Rows containing CF's\n",
    "    CMindex = find(raw[:,6].==\"CM\")    # Rows containing CM's\n",
    "    LMindex = find(raw[:,6].==\"LM\")    # Rows containing LM's\n",
    "    RMindex = find(raw[:,6].==\"RM\")    # Rows containing RM's\n",
    "    CAMindex = find(raw[:,6].==\"CAM\")  # Rows containing CAM's\n",
    "    CDMindex = find(raw[:,6].==\"CDM\")  # Rows containing CDM's\n",
    "    CBindex = find(raw[:,6].==\"CB\")    # Rows containing CB's\n",
    "    LBindex = find(raw[:,6].==\"LB\")    # Rows containing LB's\n",
    "    RBindex = find(raw[:,6].==\"RB\")    # Rows containing RB's\n",
    "    \n",
    "    clubs = unique(raw[:,7])           # List of unique clubs of the players\n",
    "    Num = 11                           # Total players in a team\n",
    "    T = length(clubs)                  # Number of unique clubs\n",
    "    minLimit = 0                       # Minimum number of player in every position (0)\n",
    "    minForward = 1                     # Minimum number of forward players(including LW, RW, ST, CF)\n",
    "    maxForward = 3                     # Maximum number of forward players(including LW, RW, ST, CF)\n",
    "    minMid = 3                         # Minimum number of midfield players(including CM, CAM, CDM, LM, RM)\n",
    "    maxMid = 5                         # Maximum number of midfield players(including CM, CAM, CDM, LM, RM)\n",
    "    minBack = 2                        # Minimum number of back players(including CB, LB, RB)\n",
    "    maxBack = 4                        # Maximum number of back players(including CB, LB, RB)\n",
    "    \n",
    "    # Maximum number of player in every position\n",
    "    GKlimit = LWlimit = RWlimit = STlimit = CFlimit = CMlimit = CAMlimit = 1  \n",
    "    CDMlimit = LMlimit = RMlimit = CAMlimit =  LBlimit = RBlimit = 1\n",
    "    CBlimit = 2\n",
    "    \n",
    "    m = Model(solver=CbcSolver())\n",
    "    \n",
    "    @variable(m, k[1:N], Bin)             # Indicator variable:  1- Player on team, 0- Player not on team\n",
    "    @constraint(m, sum{k[i]*raw[i,2], i=1:N} <= maxSalary)           # Salary cap constraint\n",
    "    @constraint(m, sum{k[i], i = GKindex} == GKlimit)                # Number of GK's constraint\n",
    "    @constraint(m, minLimit <= sum{k[i], i = LWindex} <= LWlimit)    # Number of LW's constraint\n",
    "    @constraint(m, minLimit <= sum{k[i], i = RWindex} <= RWlimit)    # Number of RW's constraint\n",
    "    @constraint(m, minLimit <= sum{k[i], i = STindex} <= STlimit)    # Number of ST's constraint\n",
    "    @constraint(m, minLimit <= sum{k[i], i = CFindex} <= CFlimit)    # Number of CF's constraint\n",
    "    @constraint(m, minLimit <= sum{k[i], i = CMindex} <= CMlimit)    # Number of CM's constraint\n",
    "    @constraint(m, minLimit <= sum{k[i], i = LMindex} <= LMlimit)    # Number of LM's constraint\n",
    "    @constraint(m, minLimit <= sum{k[i], i = RMindex} <= RMlimit)    # Number of RM's constraint\n",
    "    @constraint(m, minLimit <= sum{k[i], i = CAMindex} <= CAMlimit)  # Number of CAM's constraint\n",
    "    @constraint(m, minLimit <= sum{k[i], i = CDMindex} <= CDMlimit)  # Number of CDM's constraint\n",
    "    @constraint(m, minLimit <= sum{k[i], i = CBindex} <= CBlimit)    # Number of CB's constraint\n",
    "    @constraint(m, minLimit <= sum{k[i], i = LBindex} <= LBlimit)    # Number of LB's constraint\n",
    "    @constraint(m, minLimit <= sum{k[i], i = RBindex} <= RBlimit)    # Number of RB's constraint\n",
    "    \n",
    "    # Number of players(forward, midfield and back)constraint\n",
    "    @constraint(m, minForward <= sum{k[i], i = [LWindex; RWindex; STindex; CFindex]} <= maxForward)\n",
    "    @constraint(m, minMid <= sum{k[i], i = [CMindex; LMindex; RMindex; CAMindex; CDMindex]} <= maxMid)\n",
    "    @constraint(m, minBack <= sum{k[i], i = [CBindex; LBindex; RBindex]} <= maxBack)\n",
    "    \n",
    "    # Total number of players must be Num (11)\n",
    "    @constraint(m, sum{k[i], i = [GKindex; LWindex; RWindex; STindex; CFindex; CMindex; LMindex; RMindex; CAMindex; CDMindex; \n",
    "                                                CBindex; LBindex; RBindex]} == Num)\n",
    "    \n",
    "    # Limit amount of players from one particular team\n",
    "    for t = 1:T\n",
    "        clubIndex = find(raw[:,7].==clubs[t])\n",
    "        @constraint(m, sum{k[i], i = clubIndex} <= CBlimit)\n",
    "    end\n",
    "    \n",
    "    # Maximize the overall ability according to the value of λ\n",
    "    @objective(m, Max, λ*sum{k[i]*raw[i,21], i=1:N} + (1-λ)/2*(sum{k[i]*raw[i,34], i=1:N} + sum{k[i]*raw[i,42], i=1:N}))\n",
    "    \n",
    "    solve(m);\n",
    "    \n",
    "    Ra = getvalue(sum(k.*raw[:,21]/Num))  # Average attack ability\n",
    "    Rm = getvalue(sum(k.*raw[:,34]/Num))  # Average midfield ability\n",
    "    Rd = getvalue(sum(k.*raw[:,42]/Num))  # Average defensive ability\n",
    "    R = getvalue(sum(k.*raw[:,1]/Num))    # Average overall ability\n",
    "    Ip = getvalue(k)                    # Indicator player vector\n",
    "    \n",
    "    return(R, Ra, Rm, Rd, Ip)\n",
    "end;"
   ]
  },
  {
   "cell_type": "code",
   "execution_count": 77,
   "metadata": {},
   "outputs": [
    {
     "name": "stdout",
     "output_type": "stream",
     "text": [
      "Total amounts of investment used (in million): 68.32100000000001\n"
     ]
    },
    {
     "data": {
      "text/html": [
       "<table class=\"data-frame\"><thead><tr><th></th><th>Player</th><th>Position</th><th>Club</th><th>Nation</th><th>Age</th><th>Salary</th><th>Attack</th><th>Midfield</th><th>Defence</th><th>Rating</th></tr></thead><tbody><tr><th>1</th><td>Kevin</td><td>GK</td><td>Paris Saint-Germain</td><td>Germany</td><td>25</td><td>4.12</td><td>66.625</td><td>25.25</td><td>84.0</td><td>84.0</td></tr><tr><th>2</th><td>Neymar</td><td>LW</td><td>FC Barcelona</td><td>Brazil</td><td>24</td><td>11.256</td><td>91.0</td><td>76.0833</td><td>86.8571</td><td>91.0</td></tr><tr><th>3</th><td>George</td><td>RW</td><td>Legends</td><td>Northern Ireland</td><td>69</td><td>10.356</td><td>90.0</td><td>82.8333</td><td>74.8571</td><td>90.0</td></tr><tr><th>4</th><td>Wayne</td><td>ST</td><td>Manchester United</td><td>England</td><td>30</td><td>6.147</td><td>87.0</td><td>81.9167</td><td>70.5714</td><td>87.0</td></tr><tr><th>5</th><td>Stefan</td><td>CAM</td><td>Legends</td><td>Germany</td><td>47</td><td>5.356</td><td>80.75</td><td>86.0</td><td>81.2857</td><td>86.0</td></tr><tr><th>6</th><td>G??khan</td><td>CDM</td><td>Leicester City</td><td>Switzerland</td><td>31</td><td>5.021</td><td>74.625</td><td>80.0</td><td>77.4286</td><td>80.0</td></tr><tr><th>7</th><td>Ronaldo</td><td>CB</td><td>VfL Wolfsburg</td><td>Brazil</td><td>33</td><td>5.328</td><td>77.0</td><td>65.1667</td><td>86.0</td><td>86.0</td></tr><tr><th>8</th><td>Jan</td><td>CB</td><td>Tottenham Hotspur</td><td>Belgium</td><td>28</td><td>4.652</td><td>72.75</td><td>69.6667</td><td>82.0</td><td>82.0</td></tr><tr><th>9</th><td>Marcelo</td><td>LB</td><td>Real Madrid CF</td><td>Brazil</td><td>27</td><td>8.231</td><td>85.875</td><td>84.6667</td><td>89.0</td><td>89.0</td></tr><tr><th>10</th><td>Gareth</td><td>RM</td><td>Real Madrid CF</td><td>Wales</td><td>26</td><td>7.854</td><td>88.5</td><td>87.0</td><td>71.2857</td><td>87.0</td></tr><tr><th>11</th><td>Average</td><td>/</td><td>/</td><td>/</td><td>31</td><td>6.211</td><td>82.1932</td><td>75.5985</td><td>81.0519</td><td>78.3636</td></tr></tbody></table>"
      ],
      "text/plain": [
       "11×10 DataFrames.DataFrame. Omitted printing of 5 columns\n",
       "│ Row │ Player  │ Position │ Club                │ Nation           │ Age │\n",
       "├─────┼─────────┼──────────┼─────────────────────┼──────────────────┼─────┤\n",
       "│ 1   │ Kevin   │ GK       │ Paris Saint-Germain │ Germany          │ 25  │\n",
       "│ 2   │ Neymar  │ LW       │ FC Barcelona        │ Brazil           │ 24  │\n",
       "│ 3   │ George  │ RW       │ Legends             │ Northern Ireland │ 69  │\n",
       "│ 4   │ Wayne   │ ST       │ Manchester United   │ England          │ 30  │\n",
       "│ 5   │ Stefan  │ CAM      │ Legends             │ Germany          │ 47  │\n",
       "│ 6   │ G??khan │ CDM      │ Leicester City      │ Switzerland      │ 31  │\n",
       "│ 7   │ Ronaldo │ CB       │ VfL Wolfsburg       │ Brazil           │ 33  │\n",
       "│ 8   │ Jan     │ CB       │ Tottenham Hotspur   │ Belgium          │ 28  │\n",
       "│ 9   │ Marcelo │ LB       │ Real Madrid CF      │ Brazil           │ 27  │\n",
       "│ 10  │ Gareth  │ RM       │ Real Madrid CF      │ Wales            │ 26  │\n",
       "│ 11  │ Average │ /        │ /                   │ /                │ 31  │"
      ]
     },
     "execution_count": 77,
     "metadata": {},
     "output_type": "execute_result"
    }
   ],
   "source": [
    "using JuMP, DataFrames\n",
    "\n",
    "Num = 11        # Total players in a team\n",
    "\n",
    "# Run attack model\n",
    "(R, Ra, Rm, Rd, xopt) = wrongattackModel(λ, CBlimit, maxSalary, raw)\n",
    "\n",
    "# Initialize data frame containing solution\n",
    "sol = DataFrame(Player = String[], Position = String[], Club = String[], \n",
    "                Nation = String[], Age = Int64[], Salary = Float64[], \n",
    "                Attack = Float64[], Midfield = Float64[], Defence = Float64[], Rating = Float64[])\n",
    "\n",
    "for i = 1:length(xopt)\n",
    "    if xopt[i] == 1\n",
    "        # Add to dataframe if player is selected\n",
    "        push!(sol, [raw[i,4] raw[i,6] raw[i,7] raw[i,9] raw[i,10] raw[i,2] raw[i,21] raw[i,34] raw[i,42] raw[i,1]])   \n",
    "    end\n",
    "end\n",
    "\n",
    "println(\"Total amounts of investment used (in million): \", sum(sol[:,6]))\n",
    "\n",
    "# Add total row\n",
    " push!(sol, [\"Average\", \"/\", \"/\", \"/\", round(sum(sol[:,5])/Num), sum(sol[:,6])/Num, Ra, \n",
    "                    Rm, Rd, sum(sol[:,10])/Num])\n",
    "\n",
    "# Display optimal team table\n",
    "sol"
   ]
  },
  {
   "cell_type": "markdown",
   "metadata": {},
   "source": [
    "During running our codes and viewing the table results, we found out that there was one constraint that might affect our optimal solution. When we set up the constraint of maximum club member, our output might have less than 11 palyers, which was not consistent with the constriant of team member. We guessed that the problem might be the small size of our database. We noticed the improtance of the size of databse: larger size of databse could result in more preciese soultion. "
   ]
  },
  {
   "cell_type": "markdown",
   "metadata": {},
   "source": [
    "## 5. Conclusion ##\n",
    "\n",
    "Our report demonstrates two models to automatically pick soccer player depend on different personal preferences from user in FIFA game. We based on four different game plans to optimize the maximum the players’ scores to form a team. However, the data is basically selected from FIFA database and it might not really reflected the real world situation. Furthermore, we use couple main variable to operate our model, player’s attack, midfield and defense rate, players’ salary and player’s position on the field. Lastly, we add the constraint that the maximum player from the same club to form a team. We are able to come up a combination of soccer team that based on our database. More importantly, people are able to personalize their own preference on different type of team they want. For the further improvement, it could find a better way to interact with players’ score instead of taking average score from certain column in database. Also, we divide attack, midfield and defense score by ourselves which could improve as well. In order to find better way to simulate real world situation, set up more accurate database and find more precise functions to interact database is crucial. "
   ]
  }
 ],
 "metadata": {
  "kernelspec": {
   "display_name": "Julia 0.6.4",
   "language": "julia",
   "name": "julia-0.6"
  },
  "language_info": {
   "file_extension": ".jl",
   "mimetype": "application/julia",
   "name": "julia",
   "version": "0.6.4"
  }
 },
 "nbformat": 4,
 "nbformat_minor": 2
}
